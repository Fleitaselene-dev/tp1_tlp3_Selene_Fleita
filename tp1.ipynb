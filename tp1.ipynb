{
 "cells": [
  {
   "cell_type": "markdown",
   "metadata": {},
   "source": [
    "# Criterios de evaluación.\n",
    "\n",
    "* Se deben utilizar nombres de variables descriptivos y claros (Utilizar la nomeclatura correspondiente para los nombres de variables).\n",
    "* Comentarios claros y concisos que expliquen el propósito de cada sección del código.\n",
    "* Entrega en tiempo y forma.\n",
    "* Todo el código desarrollado debe ser subido a un repositorio en GitHub (el nombre del repositorio de seguir la siguiente estructura: tp1_tlp3_nombre_apellido).\n",
    "\n",
    "\n",
    "**Aclaración: Para resolver las actividades se debe incertar casillas de codigo entre cada actividad del cuaderno de Jupyter**"
   ]
  },
  {
   "cell_type": "markdown",
   "metadata": {},
   "source": [
    "### 1. **Hola Mundo y Variables**\n",
    "\n",
    "   - **Actividad 1.1**: Deben escribir un programa que imprima \"¡Hola, Mundo!\" en la consola.\n",
    "   - **Actividad 1.2**: Deben crear una variable llamada `nombre` y hacer que el programa imprima un saludo personalizado: `Hola, <nombre>!`"
   ]
  },
  {
   "cell_type": "code",
   "execution_count": 1,
   "metadata": {},
   "outputs": [
    {
     "name": "stdout",
     "output_type": "stream",
     "text": [
      "¡Hola, Mundo!\n"
     ]
    }
   ],
   "source": [
    "\n",
    "hello = \"¡Hola, Mundo!\" \n",
    "print(hello)"
   ]
  },
  {
   "cell_type": "code",
   "execution_count": 4,
   "metadata": {},
   "outputs": [
    {
     "name": "stdout",
     "output_type": "stream",
     "text": [
      "Hola, maria !\n"
     ]
    }
   ],
   "source": [
    "nombre = input(\"ingrese su Nombre: \")\n",
    "print(\"Hola,\", nombre,\"!\")"
   ]
  },
  {
   "cell_type": "markdown",
   "metadata": {},
   "source": [
    "### 2. **Operaciones Matemáticas Básicas**\n",
    "\n",
    "   - **Actividad 1.1**: Crear un programa que pida al usuario dos números y realice las cuatro operaciones matemáticas básicas (suma, resta, multiplicación y división), imprimiendo los resultados.\n",
    "   - **Actividad 1.2**: Hacer que el programa calcule el promedio de los dos números."
   ]
  },
  {
   "cell_type": "code",
   "execution_count": 7,
   "metadata": {},
   "outputs": [
    {
     "name": "stdout",
     "output_type": "stream",
     "text": [
      "Suma: 18\n",
      "Resta: 2\n",
      "multiplicación: 80\n",
      "división: 1.25\n",
      "promedio de ambos numeros: 9.0\n"
     ]
    }
   ],
   "source": [
    "#Ingresa dos números\n",
    "numero1= int(input(\"Ingresa un número:\"))\n",
    "numero2= int(input(\"Ingresa un número:\"))\n",
    "suma = (numero1 + numero2 )\n",
    "print(\"Suma:\", suma)\n",
    "print(\"Resta:\", numero1 - numero2)\n",
    "print(\"multiplicación:\", numero1 * numero2)\n",
    "print(\"división:\", numero1 / numero2)\n",
    "print(\"promedio de ambos numeros:\", suma/ 2)"
   ]
  },
  {
   "cell_type": "markdown",
   "metadata": {},
   "source": [
    "### 3. **Condicionales (if-else)**\n",
    "\n",
    "   - **Actividad 1.1**: Escribir un programa que pida al usuario su edad y le diga si es mayor de edad (18 años o más).\n",
    "   - **Actividad 1.2**: Agregar un mensaje diferente para diferentes rangos de edad, como por ejemplo, si es un niño, adolescente o adulto."
   ]
  },
  {
   "cell_type": "code",
   "execution_count": 17,
   "metadata": {},
   "outputs": [
    {
     "name": "stdout",
     "output_type": "stream",
     "text": [
      "Es menor de edad\n",
      "Es un niño\n"
     ]
    }
   ],
   "source": [
    "\n",
    "edad = int(input(\"Escriba su edad:\"))\n",
    "if(18 < edad): \n",
    "    print(\"Usted es mayor de edad\")\n",
    "    print(\"Es adulto\")\n",
    "    pass\n",
    "elif ((18 > edad) and (13 < edad)):\n",
    "    print(\"Es menor de edad\")\n",
    "    print(\"Es adolescente\")\n",
    "    pass\n",
    "else:\n",
    "    print(\"Es menor de edad\")\n",
    "    print(\"Es un niño\")\n",
    "         "
   ]
  },
  {
   "cell_type": "markdown",
   "metadata": {},
   "source": [
    "### 4. **Ciclos (while, for)**\n",
    "\n",
    "   - **Actividad 1.1**: Escribir un programa que imprima los números del 1 al 10 usando un bucle `for`.\n",
    "   - **Actividad 1.2**: Usar un bucle `while` para imprimir los números del 1 al 10, e imprimir solo aquellos números que sean divisibles por 2."
   ]
  },
  {
   "cell_type": "code",
   "execution_count": 20,
   "metadata": {},
   "outputs": [
    {
     "name": "stdout",
     "output_type": "stream",
     "text": [
      "1\n",
      "2\n",
      "3\n",
      "4\n",
      "5\n",
      "6\n",
      "7\n",
      "8\n",
      "9\n",
      "10\n"
     ]
    }
   ],
   "source": [
    "\n",
    "# todo: Resolución\n",
    "\n",
    "for i in range(1, 11):\n",
    "    print(i)\n"
   ]
  },
  {
   "cell_type": "code",
   "execution_count": null,
   "metadata": {},
   "outputs": [
    {
     "name": "stdout",
     "output_type": "stream",
     "text": [
      "2\n",
      "4\n",
      "6\n",
      "8\n",
      "10\n"
     ]
    }
   ],
   "source": [
    "#solo divisibles por dos\n",
    "numero = 1\n",
    "\n",
    "while numero <= 10:\n",
    "     if (numero % 2 == 0):\n",
    "        print(numero)\n",
    "     numero += 1"
   ]
  },
  {
   "cell_type": "markdown",
   "metadata": {},
   "source": [
    "### 5. **Listas y Bucles**\n",
    "\n",
    "   - **Actividad 1.1**: Crear una lista con 5 números y escribir un programa que imprima cada número de la lista usando un bucle `for`.\n",
    "   - **Actividad 1.2**: Usar un bucle para calcular la suma de los números de la lista."
   ]
  },
  {
   "cell_type": "code",
   "execution_count": null,
   "metadata": {},
   "outputs": [
    {
     "name": "stdout",
     "output_type": "stream",
     "text": [
      "0\n",
      "1\n",
      "2\n",
      "3\n",
      "4\n",
      "10\n"
     ]
    }
   ],
   "source": [
    "\n",
    "# todo: Resolución\n",
    "lista = [0,1,2,3,4]\n",
    "for i in lista:\n",
    " print(i)\n",
    "#suma de los numeros conjuntos de la lista\n",
    "sum = 0\n",
    "for i in lista:\n",
    "    sum += i\n",
    "print(sum)\n",
    "\n",
    " "
   ]
  },
  {
   "cell_type": "markdown",
   "metadata": {},
   "source": [
    "### 6. **Funciones**\n",
    "\n",
    "   - **Actividad 1.1**: Escribir una función llamada `saludo` que reciba un nombre como parámetro y devuelva un saludo personalizado.\n",
    "   - **Actividad 1.2**: Crear una función que reciba dos números y devuelva su suma, resta, multiplicación y división."
   ]
  },
  {
   "cell_type": "code",
   "execution_count": 30,
   "metadata": {},
   "outputs": [
    {
     "data": {
      "text/plain": [
       "'Hola, primo'"
      ]
     },
     "execution_count": 30,
     "metadata": {},
     "output_type": "execute_result"
    }
   ],
   "source": [
    "\n",
    "# todo: Resolución\n",
    "\n",
    "#Escriba su nombre\n",
    "def saludo(nombre = input()):\n",
    "    return(f\"Hola, {nombre}\")\n",
    "saludo()\n"
   ]
  },
  {
   "cell_type": "code",
   "execution_count": null,
   "metadata": {},
   "outputs": [
    {
     "data": {
      "text/plain": [
       "'Suma: 10 Resta: 0 Multiplicación: 25 División: 1.0'"
      ]
     },
     "execution_count": 89,
     "metadata": {},
     "output_type": "execute_result"
    }
   ],
   "source": [
    "#Ingrese dos numeros al iniciar la funcion\n",
    "def math(numero1 = int(input()), numero2 = int(input())):\n",
    "    return f\"Suma: {numero1 + numero2} Resta: {numero1 - numero2} Multiplicación: {numero1 * numero2} División: {numero1/numero2}\"\n",
    "math()"
   ]
  },
  {
   "cell_type": "markdown",
   "metadata": {},
   "source": [
    "### 7. **Manejo de cadenas de texto**\n",
    "\n",
    "   - **Actividad 1.1**: Escribir un programa que pida al usuario su nombre y lo imprima en mayúsculas y en minúsculas.\n",
    "   - **Actividad 1.2**: Hacer que el programa imprima la longitud del nombre ingresado (no tener en cuenta los espacios en blanco)."
   ]
  },
  {
   "cell_type": "code",
   "execution_count": 63,
   "metadata": {},
   "outputs": [
    {
     "name": "stdout",
     "output_type": "stream",
     "text": [
      "ESTER\n",
      "ester\n",
      "5\n"
     ]
    }
   ],
   "source": [
    "nombre = input(\"Escriba su nombre:\")\n",
    "print(nombre.upper())\n",
    "print(nombre.lower())\n",
    "print(len(nombre))"
   ]
  },
  {
   "cell_type": "markdown",
   "metadata": {},
   "source": [
    "### 8. **Diccionarios**\n",
    "\n",
    "   - **Actividad1.1**: Crear un diccionario que contenga los nombres de tres personas como claves y sus edades como valores. El programa debe imprimir la edad de cada persona.\n",
    "   - **Actividad1.2**: Escribir un programa que pregunte al usuario un nombre, luego su edad y los agregue al diccionario."
   ]
  },
  {
   "cell_type": "code",
   "execution_count": null,
   "metadata": {},
   "outputs": [
    {
     "name": "stdout",
     "output_type": "stream",
     "text": [
      "34\n",
      "23\n",
      "18\n"
     ]
    }
   ],
   "source": [
    "\n",
    "dict={\"Mario\":34, \"Evan\": 23, \"Jake\": 18}\n",
    "#idx= \"Mario\", value: 43\n",
    "for idx, value in dict.items():\n",
    "    print(value)\n"
   ]
  },
  {
   "cell_type": "code",
   "execution_count": 52,
   "metadata": {},
   "outputs": [
    {
     "name": "stdout",
     "output_type": "stream",
     "text": [
      "nombre juan q\n",
      "edad 20\n"
     ]
    }
   ],
   "source": [
    "nombreUsuario = input(\"Ingresa tu nombre:\")\n",
    "edadUsuario = input(\"Ingrese su edad\")\n",
    "\n",
    "diccionario = {\"nombre\":nombreUsuario, \"edad\":edadUsuario}\n",
    "for idx, value in diccionario.items():\n",
    "    print(idx, value)"
   ]
  },
  {
   "cell_type": "markdown",
   "metadata": {},
   "source": [
    "### 9. **Números aleatorios**\n",
    "\n",
    "   - **Actividad 1.1**: Escribir un programa que genere 5 números aleatorios entre 1 y 100, lo imprima por consola y diga si es mayor o menor a 50.\n",
    "   - **Actividad 1.2**: Sumar los 5 números generados aleatoriamente y en caso de que el resultado sea mayor a 100, mostrar el valor antes de ser mayor a 100 y cuantos números se sumaron para llegar a dicho valor."
   ]
  },
  {
   "cell_type": "code",
   "execution_count": 31,
   "metadata": {},
   "outputs": [
    {
     "name": "stdout",
     "output_type": "stream",
     "text": [
      "Numeros aleatorios:\n",
      "65\n",
      "7\n",
      "38\n",
      "El resultado es mayor a 100\n",
      "El numero anterior es 103\n",
      "Se sumaron 2 para llegar al resultado\n",
      "55\n",
      "El resultado es mayor a 100\n",
      "El numero anterior es 158\n",
      "Se sumaron 3 para llegar al resultado\n",
      "35\n",
      "El resultado es mayor a 100\n",
      "El numero anterior es 193\n",
      "Se sumaron 4 para llegar al resultado\n",
      "Suma en total de los numeros: 200\n",
      "Es mayor a 50: 65\n",
      "Es menor a 50: 7\n",
      "Es menor a 50: 38\n",
      "Es mayor a 50: 55\n",
      "Es menor a 50: 35\n"
     ]
    }
   ],
   "source": [
    "\n",
    "import random\n",
    "suma = 0\n",
    "numero = []\n",
    "print(\"Numeros aleatorios:\")\n",
    "for i in range(5):\n",
    "  numero_aleatorio = random.randint(1,100)\n",
    "  print(numero_aleatorio)\n",
    "  numero.append(numero_aleatorio)\n",
    "  suma += numero_aleatorio\n",
    "  if(suma > 100):\n",
    "     print(\"El resultado es mayor a 100\")\n",
    "     numero_anterior = suma - numero[1]\n",
    "     print(\"El numero anterior es\", numero_anterior)\n",
    "     print(\"Se sumaron\", len(numero)-1, \"para llegar al resultado\")\n",
    "else:\n",
    "    print(\"Suma en total de los numeros:\",suma)\n",
    "\n",
    "for num in numero:\n",
    "    if(num > 50):\n",
    "        print(\"Es mayor a 50:\", num)\n",
    "    else:\n",
    "        print(\"Es menor a 50:\", num)\n",
    "\n",
    "\n",
    "\n",
    "\n"
   ]
  },
  {
   "cell_type": "markdown",
   "metadata": {},
   "source": [
    "### 10. **Proyecto Final: Calculadora**\n",
    "\n",
    "   - **Actividad 1.1**: Los estudiantes deben crear una calculadora básica que permita realizar operaciones de suma, resta, multiplicación y división con entradas del usuario. El programa debe pedir al usuario que elija la operación y luego introducir 2 números para realizar el cálculo.\n",
    "   - **Actividad 1.2**: Implementar una opción para que el usuario pueda continuar haciendo cálculos o salir del programa."
   ]
  },
  {
   "cell_type": "code",
   "execution_count": null,
   "metadata": {},
   "outputs": [
    {
     "name": "stdout",
     "output_type": "stream",
     "text": [
      "Calculadora:\n",
      "\n",
      "Eligue una operacion:\n",
      "Opción no válida. Intenta de nuevo.\n",
      "\n",
      "Eligue una operacion:\n",
      "A salido del programa\n"
     ]
    }
   ],
   "source": [
    "\n",
    "\n",
    "print(\"Calculadora:\")\n",
    "while True:\n",
    "    print(\"\\nEligue una operacion:\")\n",
    "    opcion = int(input(\"Suma:1, Resta: 2, Multiplicación: 3, Division:4, Salir: 0 \"))\n",
    "    if( opcion == 0):\n",
    "        print(\"A salido del programa\")\n",
    "        break\n",
    "    elif( opcion >= 5):\n",
    "        print(\"Opción no válida. Intenta de nuevo.\")   \n",
    "        continue\n",
    "    numero1 = int(input(\"Eligue el primer numero:\"))\n",
    "    print(\"Numero ingresado:\", numero1)\n",
    "    numero2= int(input(\"Eligue el segundo numero\"))\n",
    "    print(\"Numero ingresado:\", numero2)\n",
    "    match opcion:\n",
    "        case 1:\n",
    "            print(\"Resultado:\", numero1 + numero2 )\n",
    "        case 2:\n",
    "            print(\"Resultado:\", numero1 - numero2)\n",
    "        case 3:\n",
    "            print(\"Resultado:\", numero1 * numero2)\n",
    "        case 4:\n",
    "            print(\"Resultado:\", numero1/numero2)\n",
    "         \n"
   ]
  },
  {
   "cell_type": "markdown",
   "metadata": {},
   "source": [
    "### EXTRA. **Juegos Simples (Adivina el número)**\n",
    "\n",
    "   - **Actividad 1.1**: Escribir un juego donde el programa elija un número aleatorio entre 1 y 100 y el usuario tenga que adivinarlo. El programa debe dar pistas si el número es mayor o menor.\n",
    "   - **Actividad 1.2**: Limitar el número de intentos y mostrar un mensaje de éxito o fracaso al final."
   ]
  },
  {
   "cell_type": "code",
   "execution_count": null,
   "metadata": {},
   "outputs": [
    {
     "name": "stdout",
     "output_type": "stream",
     "text": [
      "Primera pista: El numero es mayor a 50\n",
      "El numero es mayor que 24\n",
      "Incorrecto. Número de intentos restantes: 2\n",
      "\n",
      "El numero es mayor que 78\n",
      "Incorrecto. Número de intentos restantes: 1\n",
      "\n",
      "El numero es mayor que 81\n",
      "Incorrecto. Número de intentos restantes: 0\n",
      "\n",
      "Se acabaron los intentos\n",
      "Numero aleatorio: 86\n"
     ]
    }
   ],
   "source": [
    "\"Adivina el Numero\"\n",
    "import random \n",
    "\"\\n Piensa en un numero entre el 1 y 100\"\n",
    "numero_aleatorio = random.randint(1, 100)\n",
    "if(numero_aleatorio >= 50):\n",
    "    print(\"Primera pista: El numero es mayor a 50\")\n",
    "else:\n",
    "    print(\"Pista: El numero es menor a 50\")\n",
    "\n",
    "intentos = 3\n",
    "\n",
    "while intentos > 0:\n",
    "    respuesta = int(input(\"ingrese un numero:\"))\n",
    "    if respuesta == numero_aleatorio:\n",
    "        print(\"Correcto!!\")\n",
    "        break\n",
    "    elif (respuesta < numero_aleatorio):\n",
    "        print(\"El numero es mayor que\", respuesta)\n",
    "    else:\n",
    "        print(\"El numero es menor que:\", respuesta)\n",
    "   \n",
    "    intentos = intentos -1\n",
    "    print(f\"Incorrecto. Número de intentos restantes: {intentos}\\n\")\n",
    "if (intentos == 0):\n",
    "    print(\"Se acabaron los intentos\")\n",
    "    print(\"Numero aleatorio:\", numero_aleatorio)"
   ]
  }
 ],
 "metadata": {
  "kernelspec": {
   "display_name": "Python 3",
   "language": "python",
   "name": "python3"
  },
  "language_info": {
   "codemirror_mode": {
    "name": "ipython",
    "version": 3
   },
   "file_extension": ".py",
   "mimetype": "text/x-python",
   "name": "python",
   "nbconvert_exporter": "python",
   "pygments_lexer": "ipython3",
   "version": "3.13.2"
  }
 },
 "nbformat": 4,
 "nbformat_minor": 2
}
